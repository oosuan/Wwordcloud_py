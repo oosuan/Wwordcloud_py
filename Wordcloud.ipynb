{
 "cells": [
  {
   "cell_type": "code",
   "execution_count": 1,
   "metadata": {
    "scrolled": true
   },
   "outputs": [],
   "source": [
    "import pandas\n",
    "import time\n",
    "from progressbar import progressbar\n",
    "import gc\n",
    "\n",
    "from pythainlp import word_tokenize,Tokenizer\n",
    "from pythainlp.corpus import thai_stopwords,thai_words\n",
    "import matplotlib.pyplot as plt\n",
    "from wordcloud import WordCloud,STOPWORDS\n",
    "import numpy as np\n",
    "import random\n",
    "import matplotlib"
   ]
  },
  {
   "cell_type": "markdown",
   "metadata": {},
   "source": [
    "import library ต่างๆเพื่อเอามาใช้ใน wordcloud"
   ]
  },
  {
   "cell_type": "code",
   "execution_count": 14,
   "metadata": {},
   "outputs": [],
   "source": [
    "df = pandas.read_csv('file.csv')"
   ]
  },
  {
   "cell_type": "markdown",
   "metadata": {},
   "source": [
    "ตั้งตัวแปรให้ df = การอ่านค่าของไฟล์ csv"
   ]
  },
  {
   "cell_type": "code",
   "execution_count": 15,
   "metadata": {
    "scrolled": true
   },
   "outputs": [
    {
     "name": "stdout",
     "output_type": "stream",
     "text": [
      "<class 'pandas.core.frame.DataFrame'>\n",
      "RangeIndex: 14355 entries, 0 to 14354\n",
      "Data columns (total 34 columns):\n",
      " #   Column           Non-Null Count  Dtype  \n",
      "---  ------           --------------  -----  \n",
      " 0   id               14355 non-null  int64  \n",
      " 1   conversation_id  14355 non-null  int64  \n",
      " 2   created_at       14355 non-null  int64  \n",
      " 3   date             14355 non-null  object \n",
      " 4   time             14355 non-null  object \n",
      " 5   timezone         14355 non-null  object \n",
      " 6   user_id          14355 non-null  int64  \n",
      " 7   username         14355 non-null  object \n",
      " 8   name             14355 non-null  object \n",
      " 9   place            6 non-null      object \n",
      " 10  tweet            14355 non-null  object \n",
      " 11  mentions         14355 non-null  object \n",
      " 12  urls             14355 non-null  object \n",
      " 13  photos           14355 non-null  object \n",
      " 14  replies_count    14355 non-null  int64  \n",
      " 15  retweets_count   14355 non-null  int64  \n",
      " 16  likes_count      14355 non-null  int64  \n",
      " 17  hashtags         14355 non-null  object \n",
      " 18  cashtags         14355 non-null  object \n",
      " 19  link             14355 non-null  object \n",
      " 20  retweet          14355 non-null  bool   \n",
      " 21  quote_url        1501 non-null   object \n",
      " 22  video            14355 non-null  int64  \n",
      " 23  near             0 non-null      float64\n",
      " 24  geo              0 non-null      float64\n",
      " 25  source           0 non-null      float64\n",
      " 26  user_rt_id       0 non-null      float64\n",
      " 27  user_rt          0 non-null      float64\n",
      " 28  retweet_id       0 non-null      float64\n",
      " 29  reply_to         14355 non-null  object \n",
      " 30  retweet_date     0 non-null      float64\n",
      " 31  translate        0 non-null      float64\n",
      " 32  trans_src        0 non-null      float64\n",
      " 33  trans_dest       0 non-null      float64\n",
      "dtypes: bool(1), float64(10), int64(8), object(15)\n",
      "memory usage: 3.6+ MB\n"
     ]
    }
   ],
   "source": [
    "df.info()"
   ]
  },
  {
   "cell_type": "markdown",
   "metadata": {},
   "source": [
    "เช็คว่าในไฟล์ csv มีตัวแปรอะไรบ้าง"
   ]
  },
  {
   "cell_type": "code",
   "execution_count": 16,
   "metadata": {},
   "outputs": [
    {
     "data": {
      "text/plain": [
       "<map at 0x2446caacec8>"
      ]
     },
     "execution_count": 16,
     "metadata": {},
     "output_type": "execute_result"
    }
   ],
   "source": [
    "stop_words = list(thai_stopwords()) + list(STOPWORDS) +\\\n",
    "             [\"฿\",\"ly\",\"pic\",\"co\",\"th\",\"https\",\"com\",\"youtu\",\"http\",\"www\",\"twitter\",\"html\",\"bit\"]\n",
    "map(lambda stop_words:stop_words.lower(),stop_words)"
   ]
  },
  {
   "cell_type": "markdown",
   "metadata": {},
   "source": [
    "นี้คือส่วนของ stopword คือคำที่เราไม่ต้องการใน wordcloud และทำการไม่แสดงคำนั้นๆใน wordcloud"
   ]
  },
  {
   "cell_type": "code",
   "execution_count": 17,
   "metadata": {},
   "outputs": [],
   "source": [
    "pythainlp_words = thai_words()\n",
    "custom_dict = ['โคโรนา','ลุงตู่','โควิด','โคโรน่า','เจลล้างมือ','ขบวนเสด็จ']\n",
    "dictionary = list(pythainlp_words) + list(custom_dict)\n",
    "    \n",
    "tok = Tokenizer(dictionary)"
   ]
  },
  {
   "cell_type": "markdown",
   "metadata": {},
   "source": [
    "ในส่วนนี้คือการเพิ่ม dictionary ทำให้มีคำที่ไม่มีใน dictionary ปกติให้มรคำนั้นๆเช่น \"ลุงตู่\" จะแสดงออกมาว่า \"ลุง\" และ \"ตู่\" ถ้าเราเพิ่มไปใน dictionary แล้วจะแสดงผลออกมาว่า \"ลุงตู่\""
   ]
  },
  {
   "cell_type": "code",
   "execution_count": 23,
   "metadata": {},
   "outputs": [],
   "source": [
    "def text_tokenize(texts):\n",
    "        texts = df['tweet']\n",
    "        global tokens\n",
    "        tokens = []\n",
    "        for a in progressbar(texts):\n",
    "               tokens.extend(tok.word_tokenize(a))\n",
    "        return(tokens)"
   ]
  },
  {
   "cell_type": "markdown",
   "metadata": {},
   "source": [
    "ส่วนนี้จะเป็นการคัดแยกคำต่างๆเป็นคำไทยและอังกฤษและเชื่อมคำใน dictionary ที่เพิ่มเข้ามาด้วย"
   ]
  },
  {
   "cell_type": "code",
   "execution_count": 24,
   "metadata": {},
   "outputs": [],
   "source": [
    "def text_to_string(tokens):\n",
    "        global text2\n",
    "        text2 = ' '.join(tokens)\n",
    "        text2 = text2.lower()"
   ]
  },
  {
   "cell_type": "markdown",
   "metadata": {},
   "source": [
    "ทำการ space คำและทำให้ภาษาอังกฤษนั้นเป็นตัวพิมพ์เล็กทั้งหมด"
   ]
  },
  {
   "cell_type": "code",
   "execution_count": 25,
   "metadata": {},
   "outputs": [],
   "source": [
    "def generate_wordcloud(a):\n",
    "    global wordcloud\n",
    "    wordcloud = WordCloud(stopwords = stop_words,\n",
    "                            font_path='THSarabunNew.ttf',\n",
    "                            min_word_length = 2,\n",
    "                            relative_scaling = 1.0,\n",
    "                            min_font_size=1,\n",
    "                            background_color=\"black\",\n",
    "                            width=800,\n",
    "                            height=600,\n",
    "                            scale=10,\n",
    "                            font_step=1,\n",
    "                            collocations=False,\n",
    "                            colormap = \"autumn\",\n",
    "                            regexp=r\"[\\u0E00-\\u0E7Fa-zA-Z']+\",\n",
    "                            margin=2\n",
    "                            ).generate(a)\n",
    "    "
   ]
  },
  {
   "cell_type": "markdown",
   "metadata": {},
   "source": [
    "ทำการ generate wordcloud"
   ]
  },
  {
   "cell_type": "code",
   "execution_count": 26,
   "metadata": {},
   "outputs": [],
   "source": [
    "def plotting(wordcloud): \n",
    "    plt.figure(figsize=(16,9))\n",
    "    plt.imshow(wordcloud, cmap=plt.cm.gray, interpolation='bilinear')\n",
    "    plt.axis(\"off\")\n",
    "    plt.show()\n",
    "    wordcloud.to_file('N.png')\n",
    "    gc.collect()"
   ]
  },
  {
   "cell_type": "markdown",
   "metadata": {},
   "source": [
    "ส่วนสุดท้ายนี้จะเป็นการวาง wordcloud"
   ]
  },
  {
   "cell_type": "code",
   "execution_count": 27,
   "metadata": {
    "scrolled": true
   },
   "outputs": [
    {
     "name": "stderr",
     "output_type": "stream",
     "text": [
      "100% (14355 of 14355) |##################| Elapsed Time: 0:00:04 Time:  0:00:04\n"
     ]
    },
    {
     "data": {
      "image/png": "[encoded data removed]",
      "text/plain": [
       "<Figure size 1152x648 with 1 Axes>"
      ]
     },
     "metadata": {
      "needs_background": "light"
     },
     "output_type": "display_data"
    }
   ],
   "source": [
    "text_tokenize(df['tweet'])\n",
    "text_to_string(tokens)\n",
    "generate_wordcloud(text2)\n",
    "plotting(wordcloud)"
   ]
  },
  {
   "cell_type": "code",
   "execution_count": null,
   "metadata": {},
   "outputs": [],
   "source": []
  },
  {
   "cell_type": "code",
   "execution_count": null,
   "metadata": {},
   "outputs": [],
   "source": []
  }
 ],
 "metadata": {
  "kernelspec": {
   "display_name": "Python 3",
   "language": "python",
   "name": "python3"
  },
  "language_info": {
   "codemirror_mode": {
    "name": "ipython",
    "version": 3
   },
   "file_extension": ".py",
   "mimetype": "text/x-python",
   "name": "python",
   "nbconvert_exporter": "python",
   "pygments_lexer": "ipython3",
   "version": "3.7.4"
  }
 },
 "nbformat": 4,
 "nbformat_minor": 4
}
